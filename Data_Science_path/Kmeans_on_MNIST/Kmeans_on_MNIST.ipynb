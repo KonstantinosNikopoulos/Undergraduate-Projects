{
 "cells": [
  {
   "cell_type": "markdown",
   "metadata": {},
   "source": [
    "# K-means on MNIST\n",
    "## (only for digits: 6,7,8,9)\n",
    "\n",
    "### author: Konstantinos Nikopoulos\n",
    "\n"
   ]
  },
  {
   "cell_type": "markdown",
   "metadata": {},
   "source": [
    "## Import necessary libraries"
   ]
  },
  {
   "cell_type": "code",
   "execution_count": 1,
   "metadata": {},
   "outputs": [
    {
     "name": "stderr",
     "output_type": "stream",
     "text": [
      "Using TensorFlow backend.\n"
     ]
    }
   ],
   "source": [
    "############################### Import libraries #############################################\n",
    "\n",
    "import keras\n",
    "import numpy as np\n",
    "import matplotlib\n",
    "import matplotlib.pyplot\n",
    "import sys\n",
    "from keras.datasets import mnist\n",
    "from math import sqrt\n",
    "\n"
   ]
  },
  {
   "cell_type": "markdown",
   "metadata": {},
   "source": [
    "## Load MNIST dataset and keep the digits: 6,7,8,9     \n",
    "## Create arrays: M for train, N for test, Ltr for train labels, Lte for test labels    "
   ]
  },
  {
   "cell_type": "code",
   "execution_count": 2,
   "metadata": {},
   "outputs": [
    {
     "name": "stdout",
     "output_type": "stream",
     "text": [
      "shape of data: (60000, 28, 28) (10000, 28, 28)\n",
      "shape of labels: (60000,) (10000,)\n",
      "new shape of data: (23983, 28, 28) (3969, 28, 28)\n",
      "new shape of labels: (23983,) (3969,)\n"
     ]
    }
   ],
   "source": [
    "################################ Preprocess dataset ###########################################\n",
    "\n",
    "# M = X train\n",
    "# N = X test\n",
    "# Ltr = Y train\n",
    "# Lte = Y test\n",
    "\n",
    "# Load MNIST\n",
    "(M, Ltr), (N, Lte) = mnist.load_data()\n",
    "\n",
    "print(\"shape of data:\", M.shape, N.shape) #(60000, 28, 28) (10000, 28, 28)\n",
    "print(\"shape of labels:\", Ltr.shape, Lte.shape) #(60000,) (10000,) \n",
    "\n",
    "# Keep only the digits 6,7,8,9\n",
    "train_mask = np.isin(Ltr, [6, 7, 8, 9])\n",
    "test_mask = np.isin(Lte, [6, 7, 8, 9])\n",
    "M, Ltr = M[train_mask], Ltr[train_mask]\n",
    "N, Lte = N[test_mask], Lte[test_mask]\n",
    "\n",
    "# For simplify operations transform 6,7,8,9 to 0,1,2,3\n",
    "for i in range(0,len(Ltr)):\n",
    "    Ltr[i] = Ltr[i] - 6\n",
    "for i in range(0,len(Lte)):\n",
    "    Lte[i] = Lte[i] - 6\n",
    "    \n",
    "print(\"new shape of data:\", M.shape, N.shape) \n",
    "print(\"new shape of labels:\", Ltr.shape, Lte.shape)"
   ]
  },
  {
   "cell_type": "markdown",
   "metadata": {},
   "source": [
    "## Implement:     \n",
    "## 1) a function for average brightness of rows and columns    \n",
    "## 2) a function for scatter plot points    \n",
    "## 3) Maximin algorithm    \n",
    "## 4) Kmeans algorithm    \n"
   ]
  },
  {
   "cell_type": "code",
   "execution_count": 3,
   "metadata": {},
   "outputs": [],
   "source": [
    "############################### Algorithms and functions ######################################\n",
    "\n",
    "# Calculates the average brightness of rows and\n",
    "# columns for every image\n",
    "def average_brightness(M):\n",
    "    m = [0] * len(M)\n",
    "    for i in range(0,len(M)):\n",
    "        sumX = 0\n",
    "        sumY = 0\n",
    "        for x in range (0,28):\n",
    "            countX = 0\n",
    "            countY = 0\n",
    "            for y in range (0,28):\n",
    "                countX = countX + M[i][x][y]\n",
    "                countY = countY + M[i][y][x]\n",
    "            sumX = sumX + countX\n",
    "            sumY = sumY + countY\n",
    "        avX = sumX/28\n",
    "        avY = sumY/28\n",
    "        m[i] = [avX,avY]\n",
    "    return m\n",
    "\n",
    "# Prints m to a scatter plot \n",
    "def scatter_plot(m,L):\n",
    "    x = []\n",
    "    y = []\n",
    "    colors = ['red', 'green', 'blue', 'yellow']\n",
    "    for point in m:\n",
    "        x.append(point[0])\n",
    "        y.append(point[1])\n",
    "    matplotlib.pyplot.scatter(x, y, c=L, cmap=matplotlib.colors.ListedColormap(colors))\n",
    "\n",
    "# Euclidean distance\n",
    "def euclidean_distance(a,b):\n",
    "    sum_squares = 0\n",
    "    for i in range(0,len(a)):\n",
    "        sum_squares = sum_squares + (a[i]-b[i])**2\n",
    "    return sqrt(sum_squares)\n",
    "\n",
    "# Maximin algorithm\n",
    "def Maximin(m,c):\n",
    "    dist = np.zeros(len(m))\n",
    "    k = [0] * c\n",
    "    k[0] = m[0] # first centre\n",
    "    # Finds second centre. It is the farthest of first centre.\n",
    "    for i in range(0,len(m)):\n",
    "        dist[i] = euclidean_distance(k[0],m[i])\n",
    "    index_k2 = np.argmax(dist)\n",
    "    k[1] = m[index_k2] # second centre\n",
    "    # Finds other centres\n",
    "    j=1 \n",
    "    while(j < c-1):\n",
    "        for i in range(0,len(m)):\n",
    "            newdist = euclidean_distance(k[j],m[i]) \n",
    "            if (newdist < dist[i]):\n",
    "                dist[i] = newdist\n",
    "        index_new_k = np.argmax(dist)\n",
    "        j = j+1\n",
    "        k[j] = m[index_new_k] # new centre\n",
    "    return k[0],k[1],k[2],k[3]\n",
    "\n",
    "# Kmeans algorithm\n",
    "def Kmeans(m, k1, k2, k3, k4):\n",
    "    k = [k1,k2,k3,k4]\n",
    "    clusters = [[],[],[],[]]\n",
    "    dist = np.zeros((len(m),4))\n",
    "    which_cluster = np.zeros(len(m))\n",
    "    for rounds in range(0,1):\n",
    "        # Finds closest centroid for each point (clustering)\n",
    "        for i in range(0,len(m)):\n",
    "            mindist = euclidean_distance(k[0],m[i]) \n",
    "            for j in range(0,len(k)):\n",
    "                dist[i][j] = euclidean_distance(k[j],m[i]) \n",
    "                if (dist[i][j] < mindist):\n",
    "                    mindist = dist[i][j]\n",
    "                    which_cluster[i] = j\n",
    "                    clusters[j].append(m[i])\n",
    "        # Finds new centroids\n",
    "        for i in range(0,len(k)):\n",
    "            k[i]=[0,0]\n",
    "            for j in range(0,len(clusters[i])):\n",
    "                k[i][0]=k[i][0]+clusters[i][j][0]\n",
    "                k[i][1]=k[i][1]+clusters[i][j][1]\n",
    "            if(len(clusters[i])>0):\n",
    "                k[i][0]=k[i][0]/len(clusters[i])\n",
    "                k[i][1]=k[i][1]/len(clusters[i])\n",
    "            clusters[i].clear()\n",
    "        clusters = [[],[],[],[]]\n",
    "    return k[0],k[1],k[2],k[3],which_cluster\n"
   ]
  },
  {
   "cell_type": "markdown",
   "metadata": {},
   "source": [
    "## Make an array m who keeps for each image the average brightness of rows and columns.      \n",
    "## Make a scatter plot for m.     \n",
    "## ( occurs avg br of rows = avg br of columns )    "
   ]
  },
  {
   "cell_type": "code",
   "execution_count": 4,
   "metadata": {},
   "outputs": [
    {
     "data": {
      "image/png": "[encoded data removed]",
      "text/plain": [
       "<Figure size 432x288 with 1 Axes>"
      ]
     },
     "metadata": {
      "needs_background": "light"
     },
     "output_type": "display_data"
    }
   ],
   "source": [
    "# Calculates m\n",
    "m = average_brightness(M)\n",
    "\n",
    "# Scatter plot \n",
    "scatter_plot(m,Ltr)"
   ]
  },
  {
   "cell_type": "markdown",
   "metadata": {},
   "source": [
    "## Maximin on m to find first centers    \n",
    "## Kmeans on m with previous centers as start    \n",
    "## Scatter plot to result    "
   ]
  },
  {
   "cell_type": "code",
   "execution_count": 5,
   "metadata": {},
   "outputs": [
    {
     "name": "stdout",
     "output_type": "stream",
     "text": [
      "Centers by Maximin:\n",
      "[829.0714285714286, 829.0714285714286] [2483.9285714285716, 2483.9285714285716] [1657.25, 1657.25] [308.5, 308.5]\n",
      "Centers by Kmeans:\n",
      "[0, 0] [1799.3019157994322, 1799.3019157994322] [1420.852372271417, 1420.852372271417] [502.60738548136675, 502.60738548136675]\n"
     ]
    },
    {
     "data": {
      "image/png": "[encoded data removed]",
      "text/plain": [
       "<Figure size 432x288 with 1 Axes>"
      ]
     },
     "metadata": {
      "needs_background": "light"
     },
     "output_type": "display_data"
    }
   ],
   "source": [
    "# Maximin\n",
    "k1, k2, k3, k4 = Maximin(m,4)\n",
    "print(\"Centers by Maximin:\")\n",
    "print(k1,k2,k3,k4)\n",
    "\n",
    "# Kmeans\n",
    "k1, k2, k3, k4, Ltr_new = Kmeans(m,k1,k2,k3,k4)    \n",
    "print(\"Centers by Kmeans:\")\n",
    "print(k1,k2,k3,k4)\n",
    "\n",
    "# Scatter plot of result\n",
    "scatter_plot(m,Ltr_new)\n"
   ]
  }
 ],
 "metadata": {
  "kernelspec": {
   "display_name": "Python 3",
   "language": "python",
   "name": "python3"
  },
  "language_info": {
   "codemirror_mode": {
    "name": "ipython",
    "version": 3
   },
   "file_extension": ".py",
   "mimetype": "text/x-python",
   "name": "python",
   "nbconvert_exporter": "python",
   "pygments_lexer": "ipython3",
   "version": "3.6.7"
  }
 },
 "nbformat": 4,
 "nbformat_minor": 2
}
